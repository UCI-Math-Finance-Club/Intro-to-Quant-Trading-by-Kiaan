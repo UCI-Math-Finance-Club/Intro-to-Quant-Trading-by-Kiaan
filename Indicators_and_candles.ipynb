{
 "cells": [
  {
   "cell_type": "code",
   "execution_count": 32,
   "outputs": [],
   "source": [
    "import pandas as pd\n",
    "import numpy as np\n",
    "import yfinance as yf\n",
    "import datetime as dt\n",
    "import finsymbols\n",
    "from pandas_datareader import data as pdr"
   ],
   "metadata": {
    "collapsed": false
   }
  },
  {
   "cell_type": "code",
   "execution_count": 3,
   "outputs": [
    {
     "name": "stdout",
     "output_type": "stream",
     "text": [
      "[*********************100%***********************]  1 of 1 completed\n",
      "                  Open        High         Low       Close   Adj Close  \\\n",
      "Date                                                                     \n",
      "2020-03-06   70.500000   72.705002   70.307503   72.257500   70.957054   \n",
      "2020-03-09   65.937500   69.522499   65.750000   66.542503   65.344917   \n",
      "2020-03-10   69.285004   71.610001   67.342499   71.334999   70.051155   \n",
      "2020-03-11   69.347504   70.305000   67.964996   68.857498   67.618248   \n",
      "2020-03-12   63.985001   67.500000   62.000000   62.057499   60.940628   \n",
      "...                ...         ...         ...         ...         ...   \n",
      "2023-01-30  144.960007  145.550003  142.850006  143.000000  143.000000   \n",
      "2023-01-31  142.699997  144.339996  142.279999  144.289993  144.289993   \n",
      "2023-02-01  143.970001  146.610001  141.320007  145.429993  145.429993   \n",
      "2023-02-02  148.899994  151.179993  148.169998  150.820007  150.820007   \n",
      "2023-02-03  148.029999  157.380005  147.830002  154.500000  154.500000   \n",
      "\n",
      "               Volume  \n",
      "Date                   \n",
      "2020-03-06  226176800  \n",
      "2020-03-09  286744800  \n",
      "2020-03-10  285290000  \n",
      "2020-03-11  255598800  \n",
      "2020-03-12  418474000  \n",
      "...               ...  \n",
      "2023-01-30   64015300  \n",
      "2023-01-31   65874500  \n",
      "2023-02-01   77663600  \n",
      "2023-02-02  118339000  \n",
      "2023-02-03  154279900  \n",
      "\n",
      "[735 rows x 6 columns]\n"
     ]
    }
   ],
   "source": [
    "yf.pdr_override() #Work around for yahoo finance\n",
    "stock = input(\"Enter a stock ticker symbol: \")\n",
    "\n",
    "start_year = 2020\n",
    "start_month = 3\n",
    "start_day = 6\n",
    "\n",
    "start = dt.datetime(start_year, start_month, start_day)\n",
    "\n",
    "now = dt.datetime.now()\n",
    "df = pdr.get_data_yahoo(stock, start, now)\n",
    "print(df)"
   ],
   "metadata": {
    "collapsed": false
   }
  },
  {
   "cell_type": "code",
   "execution_count": 4,
   "metadata": {
    "collapsed": true
   },
   "outputs": [
    {
     "name": "stdout",
     "output_type": "stream",
     "text": [
      "                  Open        High         Low       Close   Adj Close  \\\n",
      "Date                                                                     \n",
      "2020-04-23   68.967499   70.437500   68.717499   68.757500   67.520042   \n",
      "2020-04-24   69.300003   70.752502   69.250000   70.742500   69.469322   \n",
      "2020-04-27   70.449997   71.135002   69.987503   70.792503   69.518425   \n",
      "2020-04-28   71.269997   71.457497   69.550003   69.644997   68.391563   \n",
      "2020-04-29   71.182503   72.417503   70.972504   71.932503   70.637894   \n",
      "...                ...         ...         ...         ...         ...   \n",
      "2023-01-30  144.960007  145.550003  142.850006  143.000000  143.000000   \n",
      "2023-01-31  142.699997  144.339996  142.279999  144.289993  144.289993   \n",
      "2023-02-01  143.970001  146.610001  141.320007  145.429993  145.429993   \n",
      "2023-02-02  148.899994  151.179993  148.169998  150.820007  150.820007   \n",
      "2023-02-03  148.029999  157.380005  147.830002  154.500000  154.500000   \n",
      "\n",
      "               Volume     MA_FAST     MA_SLOW      MACD    SIGNAL  \n",
      "Date                                                               \n",
      "2020-04-23  124814400   67.597371   63.703639  3.893733  2.272274  \n",
      "2020-04-24  126161200   68.078962   64.046396  4.032567  2.710898  \n",
      "2020-04-27  117087600   68.428801   64.408887  4.019914  3.081005  \n",
      "2020-04-28  112004800   68.645456   64.874772  3.770685  3.359174  \n",
      "2020-04-29  137280800   68.941694   65.473037  3.468657  3.532733  \n",
      "...               ...         ...         ...       ...       ...  \n",
      "2023-01-30   64015300  139.237501  134.093845  5.143655  1.750157  \n",
      "2023-01-31   65874500  140.144166  134.433845  5.710321  2.662095  \n",
      "2023-02-01   77663600  141.033333  134.941537  6.091795  3.537529  \n",
      "2023-02-02  118339000  142.273333  135.670768  6.602565  4.322907  \n",
      "2023-02-03  154279900  143.880833  136.611922  7.268910  5.027116  \n",
      "\n",
      "[702 rows x 10 columns]\n"
     ]
    }
   ],
   "source": [
    "def MACD(DF, a, b, c):\n",
    "    \"\"\"\n",
    "    Calculate MACD of given DataFrama\n",
    "    :param DF: Inputed stock data as DataFrame\n",
    "    :param a: Typically 12 Fast moving average\n",
    "    :param b: Typically 26 Slow moving average\n",
    "    :param c: Typlically 9 Moving average of the MACD line\n",
    "    :return: DF with MACD\n",
    "    \"\"\"\n",
    "    df = DF.copy()\n",
    "    df[\"MA_FAST\"] = df[\"Adj Close\"].rolling(a).mean()\n",
    "    df[\"MA_SLOW\"] = df[\"Adj Close\"].rolling(b).mean()\n",
    "    df[\"MACD\"] = df[\"MA_FAST\"]-df[\"MA_SLOW\"]\n",
    "    df[\"SIGNAL\"] = df[\"MACD\"].rolling(c).mean()\n",
    "    df.dropna(inplace = True)\n",
    "    return df\n",
    "print(MACD(df, 12, 26, 9))"
   ]
  },
  {
   "cell_type": "code",
   "execution_count": null,
   "outputs": [],
   "source": [
    "def EMA_MAC(DF, a, b, c):\n",
    "    \"\"\"\n",
    "    Calculate EMA of given DataFrama\n",
    "    :param DF: Inputed stock data as DataFrame\n",
    "    :param a: Typically 12 Fast moving average\n",
    "    :param b: Typically 26 Slow moving average\n",
    "    :param c: Typlically 9 Moving average of the MACD line\n",
    "    :return: DF with MACD\n",
    "    \"\"\"\n",
    "    df = DF.copy()\n",
    "    df[\"MA_FAST\"] = df[\"Adj Close\"].ewm(span = a, min_periods = a).mean()\n",
    "    df[\"MA_SLOW\"] = df[\"Adj Close\"].ewm(span = b, min_periods = b).mean()\n",
    "    df[\"MACD\"] = df[\"MA_FAST\"]-df[\"MA_SLOW\"]\n",
    "    df[\"SIGNAL\"] = df[\"MACD\"].ewm(span = c, min_periods = c).mean()\n",
    "    df.dropna(inplace = True)\n",
    "    return df"
   ],
   "metadata": {
    "collapsed": false
   }
  },
  {
   "cell_type": "markdown",
   "source": [
    "Support and Resistance Levels | Pivot Points\n",
    "candle <= 15 min : Prev day’s high, low, close 15 min < candle <= 1 hr : Prev Week’s high, low, close 1 hr < candle <= 1 day : Prev Month’s high, low, close"
   ],
   "metadata": {
    "collapsed": false
   }
  },
  {
   "cell_type": "code",
   "execution_count": null,
   "outputs": [],
   "source": [
    "def s_r_levels(df_day):\n",
    "    \"\"\"\n",
    "    :param df_day: DF in given time frame.\n",
    "    :return pivot, r1, r2, r3, s1, s2, s3 of day:\n",
    "    \"\"\"\n",
    "    high = round(df_day[\"High\"][-1], 2)\n",
    "    low = round(df_day[\"Low\"][-1], 2)\n",
    "    close = round(df_day[\"Adj Close\"][-1], 2)\n",
    "    pivot = round((high+low+close)/3,2)\n",
    "    r1 = round((2*pivot - low),2)\n",
    "    r2 = round((pivot + (high - low)),2)\n",
    "    r3 = round((high + 2*(pivot - low)),2)\n",
    "    s1 = round((2*pivot - high),2)\n",
    "    s2 = round((pivot - (high - low)),2)\n",
    "    s3 = round((low - 2*(high - pivot)),2)\n",
    "    return pivot, r1, r2, r3, s1, s2, s3"
   ],
   "metadata": {
    "collapsed": false
   }
  },
  {
   "cell_type": "code",
   "execution_count": null,
   "outputs": [],
   "source": [
    "def doji(df):\n",
    "    \"\"\"\n",
    "    :param df: Dataframe of stock\n",
    "    :return: df with doji candle indicator\n",
    "    \"\"\"\n",
    "    doji_df = df.copy()\n",
    "    avg_size = abs(doji_df[\"Adj Close\"] - doji_df[\"open\"]).median()\n",
    "    doji_df[\"doji\"] = abs(doji_df[\"Adj Close\"] - doji_df[\"open\"]) <= (0.05 * avg_size)\n",
    "    return doji_df"
   ],
   "metadata": {
    "collapsed": false
   }
  },
  {
   "cell_type": "code",
   "execution_count": null,
   "outputs": [],
   "source": [
    "def hammer(DF):\n",
    "    \"\"\"\n",
    "    :param DF: ataframe of stock\n",
    "    :return: df with hammer candle indicator\n",
    "    \"\"\"\n",
    "    df = DF.copy\n",
    "    df[\"hammer\"] = (((df[\"High\"] - df[\"Low\"])>3*(df[\"Open\"] - df[\"Adj Close\"])) & \\\n",
    "                   ((df[\"Adj Close\"] - df[\"Low\"])/(.001 + df[\"High\"] - df[\"Low\"]) > 0.6) & \\\n",
    "                   ((df[\"Open\"] - df[\"Low\"])/(.001 + df[\"High\"] - df[\"Low\"]) > 0.6)) & \\\n",
    "                   (abs(df[\"Adj Close\"] - df[\"Open\"]) > 0.1* (df[\"High\"] - df[\"Low\"]))\n",
    "    return df"
   ],
   "metadata": {
    "collapsed": false
   }
  },
  {
   "cell_type": "code",
   "execution_count": null,
   "outputs": [],
   "source": [
    "def star(DF):\n",
    "    \"\"\"\n",
    "    :param DF: dataframe of stock\n",
    "    :return: df with start candle indicator\n",
    "    \"\"\"\n",
    "    df = DF.copy()\n",
    "    df[\"sstar\"] = (((df[\"High\"] - df[\"Low\"])>3*(df[\"Open\"] - df[\"Adj Close\"])) & \\\n",
    "                   ((df[\"High\"] - df[\"Adj Close\"])/(.001 + df[\"High\"] - df[\"Low\"]) > 0.6) & \\\n",
    "                   ((df[\"High\"] - df[\"Open\"])/(.001 + df[\"High\"] - df[\"Low\"]) > 0.6)) & \\\n",
    "                   (abs(df[\"Adj Close\"] - df[\"Open\"]) > 0.1* (df[\"High\"] - df[\"Low\"]))\n",
    "    return df"
   ],
   "metadata": {
    "collapsed": false
   }
  },
  {
   "cell_type": "code",
   "execution_count": null,
   "outputs": [],
   "source": [
    "def maru_bozu(DF):\n",
    "    \"\"\"\n",
    "    :param DF: dataframe of stock\n",
    "    :return: df with maru_bozu candle indicator\n",
    "    \"\"\"\n",
    "    df = DF.copy()\n",
    "    avg_candle_size = abs(df[\"Adj Close\"] - df[\"Open\"]).median()\n",
    "    df[\"h-c\"] = df[\"High\"]-df[\"Close\"]\n",
    "    df[\"l-o\"] = df[\"Low\"]-df[\"Open\"]\n",
    "    df[\"h-o\"] = df[\"High\"]-df[\"Open\"]\n",
    "    df[\"l-c\"] = df[\"Low\"]-df[\"Adj Close\"]\n",
    "    df[\"maru_bozu\"] = np.where((df[\"Adj Close\"] - df[\"Open\"] > 2*avg_candle_size) & \\\n",
    "                               (df[[\"h-c\",\"l-o\"]].max(axis=1) < 0.005*avg_candle_size),\"maru_bozu_green\",\n",
    "                               np.where((df[\"Open\"] - df[\"Adj Close\"] > 2*avg_candle_size) & \\\n",
    "                               (abs(df[[\"h-o\",\"l-c\"]]).max(axis=1) < 0.005*avg_candle_size),\"maru_bozu_red\",False))\n",
    "    df.drop([\"h-c\",\"l-o\",\"h-o\",\"l-c\"],axis=1,inplace=True)\n",
    "    return df"
   ],
   "metadata": {
    "collapsed": false
   }
  },
  {
   "cell_type": "code",
   "execution_count": 45,
   "outputs": [
    {
     "name": "stdout",
     "output_type": "stream",
     "text": [
      "BRK-B\n",
      "BF-B\n"
     ]
    }
   ],
   "source": [
    "table=pd.read_html('https://en.wikipedia.org/wiki/List_of_S%26P_500_companies')\n",
    "df = table[0]\n",
    "df.to_csv('S&P500-Info.csv')\n",
    "df.to_csv(\"S&P500-Symbols.csv\", columns=['Symbol'])\n",
    "\n",
    "stocks =  df['Symbol']\n",
    "for i in range(len(stocks)):\n",
    "    stock = stocks[i]\n",
    "    if '.' in stock:\n",
    "        stock = stock.replace('.', '-')\n",
    "        print(stock)\n",
    "    start_year = 2023\n",
    "    start_month = 2\n",
    "    start_day = 1\n",
    "    start = dt.datetime(start_year, start_month, start_day)\n",
    "    now = dt.datetime.now()\n",
    "    df = pdr.get_data_yahoo(stock, start, now)"
   ],
   "metadata": {
    "collapsed": false
   }
  }
 ],
 "metadata": {
  "kernelspec": {
   "display_name": "Python 3",
   "language": "python",
   "name": "python3"
  },
  "language_info": {
   "codemirror_mode": {
    "name": "ipython",
    "version": 2
   },
   "file_extension": ".py",
   "mimetype": "text/x-python",
   "name": "python",
   "nbconvert_exporter": "python",
   "pygments_lexer": "ipython2",
   "version": "2.7.6"
  }
 },
 "nbformat": 4,
 "nbformat_minor": 0
}
